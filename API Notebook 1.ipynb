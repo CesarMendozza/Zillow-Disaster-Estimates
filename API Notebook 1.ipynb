{
 "cells": [
  {
   "cell_type": "code",
   "execution_count": 1,
   "metadata": {},
   "outputs": [],
   "source": [
    "import requests\n",
    "import pandas as pd\n",
    "from bs4 import BeautifulSoup\n",
    "import re\n",
    "import zillow\n",
    "import re\n",
    "import numpy as np\n",
    "from scipy import stats\n",
    "import matplotlib.pyplot as plt\n",
    "from zillow import ValuationApi\n",
    "pd.options.display.max_rows = 700"
   ]
  },
  {
   "cell_type": "markdown",
   "metadata": {},
   "source": [
    "### Instantiate the Zillow API\n",
    "After installing Zillow API in your terminal you should be able to load the zillow library and the valuation API.  Notice that you must input your zillow api key before moving ahead.  The Zillow api takes your personal key as it's first parameter input and will not run without one.  According to the zillow ToS you must use your own personal key and cannot share with other members of your team/company."
   ]
  },
  {
   "cell_type": "code",
   "execution_count": 2,
   "metadata": {},
   "outputs": [],
   "source": [
    "from zillow import ValuationApi\n",
    "\n",
    "#insert your API key from zillow here\n",
    "zid = 'X1-ZWz18cqbc8wgsr_7j3qs'\n",
    "\n",
    "api = zillow.ValuationApi()"
   ]
  },
  {
   "cell_type": "markdown",
   "metadata": {},
   "source": [
    "Read in your csv Data.  This will be important later for utilization in the code.  If you change the name of your dataframe here you will have to change it in all of the code below"
   ]
  },
  {
   "cell_type": "code",
   "execution_count": 3,
   "metadata": {},
   "outputs": [],
   "source": [
    "#rochester = pd.read_csv('./us/ny/city_of_rochester.csv')"
   ]
  },
  {
   "cell_type": "code",
   "execution_count": 4,
   "metadata": {},
   "outputs": [],
   "source": [
    "df = pd.read_csv('./us/ca/city_of_burbank.csv')"
   ]
  },
  {
   "cell_type": "markdown",
   "metadata": {},
   "source": [
    "### Cleaning Data\n",
    "Below are the few steps taken to clean the data.  The first is a simple drop/drop na, removing non-essential columns and removing rows with NaN information (notably, 'STREET' or street names and 'NUMBERS' or house numbers)"
   ]
  },
  {
   "cell_type": "code",
   "execution_count": 5,
   "metadata": {},
   "outputs": [],
   "source": [
    "#df['CITY'] = 'CALAVERAS'\n",
    "# Manually input city name if mmissing in dataframe"
   ]
  },
  {
   "cell_type": "code",
   "execution_count": 6,
   "metadata": {},
   "outputs": [],
   "source": [
    "df.drop(['DISTRICT','REGION','ID','HASH','UNIT'], axis = 1, inplace = True)\n",
    "df.dropna(inplace = True)\n",
    "df['POSTCODE'] = df['POSTCODE'].astype(int)\n",
    "df.reset_index(inplace = True)"
   ]
  },
  {
   "cell_type": "markdown",
   "metadata": {},
   "source": [
    "This loop runs through our data to replace any 'NUMBER' values seperated in the '120-124' format.  This allows us to search each individual property individually in the API. Be patient, this could take some time to complete.  Note the progress bar, this is a personal preference to track the loops progress.  If this does not run for you, simply run 'pip install progressbar2' in your terminal"
   ]
  },
  {
   "cell_type": "code",
   "execution_count": 7,
   "metadata": {
    "scrolled": true
   },
   "outputs": [],
   "source": [
    "#for each in df['NUMBER']:\n",
    " #   if '-' in each:\n",
    "  #      temp=re.findall('(\\d*)-(\\d*).*',str(each))\n",
    "   #     print(temp)\n",
    "    #    for i in range(int(temp[0][0]),int(temp[0][1])+1):\n",
    "     #       temp_df = pd.DataFrame(df.loc[la['NUMBER'] == str(each)])\n",
    "      #      temp_df = pd.DataFrame(temp_df)\n",
    "       #     temp_df['NUMBER'] = int(i)\n",
    "        #    df = pd.concat([df,temp_df], axis = 0)\n",
    "         #   df.reset_index(inplace = True, drop = True)\n",
    "       # df = df.drop(rochester[la['NUMBER'] == each].index)"
   ]
  },
  {
   "cell_type": "code",
   "execution_count": 8,
   "metadata": {},
   "outputs": [],
   "source": [
    "#df['POSTCODE'].value_counts()"
   ]
  },
  {
   "cell_type": "markdown",
   "metadata": {},
   "source": [
    "### Zillow Estimator\n",
    "At this point we have a full list of addresses and postal codes in our dataframe which we can use to enter into the Zillow API.  This forloop allows for some flexibility in the requests, if Zillow has no estimate on a property the loop should add a \"None\" value to the list."
   ]
  },
  {
   "cell_type": "code",
   "execution_count": 9,
   "metadata": {},
   "outputs": [],
   "source": [
    "from progressbar import ProgressBar\n",
    "bar = ProgressBar(left=True,right = True)"
   ]
  },
  {
   "cell_type": "code",
   "execution_count": 10,
   "metadata": {},
   "outputs": [],
   "source": [
    "def Zestimate(zipcode):\n",
    "    zestimate_list = []\n",
    "    zipdf = df[df['POSTCODE'].isin(zipcode)]\n",
    "\n",
    "\n",
    "    for i in bar(range(len(zipdf))):\n",
    "        try:\n",
    "            address = str(zipdf['NUMBER'][i].astype(str)+' '+zipdf['STREET'][i]+'.,'+zipdf['CITY'][i]+', CA')\n",
    "            postal_code = str(int(zipdf['POSTCODE'][i]))\n",
    "            data = api.GetSearchResults(zid,address,postal_code)\n",
    "            if data != None:\n",
    "                zestimate_list.append(data.zestiamte.amount)\n",
    "            else:\n",
    "                pass\n",
    "        except:\n",
    "            pass\n",
    "    #Worth noting that many of the addresses do no have corresponding values in the zillow database.\n",
    "    #The below print output shows how many the API missed.\n",
    "    print('Missing Values:',len(zipdf)-len(zestimate_list),'Gathered %:',(len(zestimate_list))/len(zipdf))\n",
    "    \n",
    "    # This is the print output, change the print out to your preference.\n",
    "    zestimate_list = [x for x in zestimate_list if x is not None]\n",
    "    zestimate_list = np.array(zestimate_list)\n",
    "    statistics = stats.describe(zestimate_list)\n",
    "    std = np.std(zestimate_list)\n",
    "    median = np.median(zestimate_list)\n",
    "    print('    ==========================================')\n",
    "    print('                 For Area', str(zipcode) )\n",
    "    print('    ==========================================')\n",
    "    print()\n",
    "    print('     |  Values  |:',statistics[0])\n",
    "    print('     | Minimum  |:', statistics[1][0])\n",
    "    print('     | Maximum  |:', statistics[1][1])\n",
    "    print('     |  Median  |:', median)\n",
    "    print('     |   Mean   |:', float(\"{0:.2f}\".format(statistics[2])))\n",
    "    print('     |   Std    |:', float(\"{0:.2f}\".format(std)))\n",
    "    print('     | Skewness |:', float(\"{0:.2f}\".format(statistics[4])))\n",
    "    print('     | Kurtosis |:', float(\"{0:.2f}\".format(statistics[5])))\n",
    "    plt.hist(zestimate_list, edgecolor = 'black');\n",
    "    plt.xlabel('House Value')\n",
    "    plt.ylabel('Frequency')\n",
    "    return "
   ]
  },
  {
   "cell_type": "code",
   "execution_count": 11,
   "metadata": {
    "scrolled": true
   },
   "outputs": [
    {
     "data": {
      "text/plain": [
       "91505    16190\n",
       "91504    10785\n",
       "91506     9283\n",
       "91501     9147\n",
       "91502     7338\n",
       "91523       33\n",
       "19504       13\n",
       "91521        7\n",
       "91522        5\n",
       "91201        4\n",
       "91054        3\n",
       "91510        3\n",
       "91520        3\n",
       "90504        2\n",
       "9502         1\n",
       "91205        1\n",
       "104          1\n",
       "19502        1\n",
       "91402        1\n",
       "9151         1\n",
       "4307         1\n",
       "Name: POSTCODE, dtype: int64"
      ]
     },
     "execution_count": 11,
     "metadata": {},
     "output_type": "execute_result"
    }
   ],
   "source": [
    "# Choose a postalcode from here for the function:\n",
    "df['POSTCODE'].value_counts()"
   ]
  },
  {
   "cell_type": "code",
   "execution_count": 12,
   "metadata": {
    "scrolled": false
   },
   "outputs": [
    {
     "name": "stderr",
     "output_type": "stream",
     "text": [
      " 70% (5181 of 7338) |##############      | Elapsed Time: 0:03:43 ETA:   0:14:44From cffi callback <function _verify_callback at 0x0000027AD7D811E0>:\n",
      "Traceback (most recent call last):\n",
      "  File \"C:\\Users\\tbaca\\Anaconda3\\lib\\site-packages\\OpenSSL\\SSL.py\", line 306, in wrapper\n",
      "    @wraps(callback)\n",
      "KeyboardInterrupt\n",
      "100% (7338 of 7338) |####################| Elapsed Time: 0:05:05 Time:  0:05:05\n"
     ]
    },
    {
     "name": "stdout",
     "output_type": "stream",
     "text": [
      "Missing Values: 7110 Gathered %: 0.03107113654946852\n",
      "    ==========================================\n",
      "                 For Area [91502]\n",
      "    ==========================================\n",
      "\n",
      "     |  Values  |: 180\n",
      "     | Minimum  |: 411426\n",
      "     | Maximum  |: 1968174\n",
      "     |  Median  |: 922940.0\n",
      "     |   Mean   |: 982668.74\n",
      "     |   Std    |: 301136.64\n",
      "     | Skewness |: 0.88\n",
      "     | Kurtosis |: 0.39\n"
     ]
    },
    {
     "data": {
      "image/png": "[encoded data removed]",
      "text/plain": [
       "<Figure size 432x288 with 1 Axes>"
      ]
     },
     "metadata": {},
     "output_type": "display_data"
    }
   ],
   "source": [
    "Zestimate([91502\n",
    "           \n"
   ]
  },
  {
   "cell_type": "code",
   "execution_count": null,
   "metadata": {},
   "outputs": [],
   "source": [
    "# Common Error - if there is a value error # out of range, rerun the bar code from above\n",
    "# Print Statements \n",
    "# Address Missing Data"
   ]
  }
 ],
 "metadata": {
  "kernelspec": {
   "display_name": "Python 3",
   "language": "python",
   "name": "python3"
  },
  "language_info": {
   "codemirror_mode": {
    "name": "ipython",
    "version": 3
   },
   "file_extension": ".py",
   "mimetype": "text/x-python",
   "name": "python",
   "nbconvert_exporter": "python",
   "pygments_lexer": "ipython3",
   "version": "3.6.5"
  }
 },
 "nbformat": 4,
 "nbformat_minor": 2
}
