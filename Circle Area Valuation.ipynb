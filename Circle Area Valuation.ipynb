{
 "cells": [
  {
   "cell_type": "code",
   "execution_count": 3,
   "metadata": {},
   "outputs": [],
   "source": [
    "from shapely.geometry import Point\n",
    "from shapely.geometry.polygon import Polygon\n",
    "import requests\n",
    "import pandas as pd\n",
    "from bs4 import BeautifulSoup\n",
    "import re\n",
    "pd.core.common.is_list_like = pd.api.types.is_list_like\n",
    "import pandas_datareader.data as web\n",
    "import zillow\n",
    "import re\n",
    "import numpy as np\n",
    "from scipy import stats\n",
    "import matplotlib.pyplot as plt\n",
    "import numpy as np\n",
    "import json\n",
    "import geog\n",
    "import shapely.geometry\n",
    "from zillow import ValuationApi\n",
    "\n",
    "pd.options.display.max_rows = 700"
   ]
  },
  {
   "cell_type": "code",
   "execution_count": 4,
   "metadata": {},
   "outputs": [],
   "source": [
    "df = pd.read_csv('./us/nj/morris.csv')"
   ]
  },
  {
   "cell_type": "code",
   "execution_count": 5,
   "metadata": {},
   "outputs": [],
   "source": [
    "def circle_area(long,lat,radius,n_points):\n",
    "    p = shapely.geometry.Point([long, lat])\n",
    "    angles = np.linspace(0, 360, n_points)\n",
    "    d = radius\n",
    "    polygon = geog.propagate(p, angles, d)\n",
    "    df_test = pd.DataFrame(polygon)\n",
    "    polygon = shapely.geometry.mapping(shapely.geometry.Polygon(polygon))\n",
    "    df_test.plot(x = 0, y = 1, kind = 'scatter')\n",
    "    return polygon"
   ]
  },
  {
   "cell_type": "code",
   "execution_count": 7,
   "metadata": {
    "scrolled": true
   },
   "outputs": [
    {
     "data": {
      "text/plain": [
       "{'type': 'Polygon',\n",
       " 'coordinates': (((-74.4988141470866, 40.67881999393376),\n",
       "   (-74.49887839495527, 40.67911200382137),\n",
       "   (-74.49906418767353, 40.67937237098539),\n",
       "   (-74.4993513926078, 40.679572880086894),\n",
       "   (-74.49970888651269, 40.67969180223836),\n",
       "   (-74.50009792827403, 40.67971624992531),\n",
       "   (-74.5004763575748, 40.67964357375993),\n",
       "   (-74.50080316429671, 40.679481649626176),\n",
       "   (-74.50104293320668, 40.67924802508171),\n",
       "   (-74.50116968202256, 40.67896801756934),\n",
       "   (-74.50116967682803, 40.678671970626866),\n",
       "   (-74.5010429198137, 40.678391965534125),\n",
       "   (-74.50080314835336, 40.67815834480853),\n",
       "   (-74.5004763458047, 40.677996424282384),\n",
       "   (-74.50009792564084, 40.67792374999195),\n",
       "   (-74.4997088941269, 40.677948197030496),\n",
       "   (-74.49935140725833, 40.67806711628365),\n",
       "   (-74.49906420318197, 40.67826762145919),\n",
       "   (-74.49887840478145, 40.678527985325275),\n",
       "   (-74.4988141470866, 40.67881999393376)),)}"
      ]
     },
     "execution_count": 7,
     "metadata": {},
     "output_type": "execute_result"
    },
    {
     "data": {
      "image/png": "[encoded data removed]",
      "text/plain": [
       "<Figure size 432x288 with 1 Axes>"
      ]
     },
     "metadata": {},
     "output_type": "display_data"
    }
   ],
   "source": [
    "polygon =circle_area(-74.5,40.67882,100,n_points=20)\n",
    "poly = Polygon(polygon['coordinates'][0])\n",
    "\n",
    "polygon"
   ]
  },
  {
   "cell_type": "markdown",
   "metadata": {},
   "source": [
    "Cleaning required for this specific dataset includes specifically adding zeros to the postal codes.  To do this propertly you must convert the float, to an int then a string and apply a lambda function to all the values in the dataframe."
   ]
  },
  {
   "cell_type": "code",
   "execution_count": 5,
   "metadata": {},
   "outputs": [],
   "source": [
    "df.drop(['DISTRICT','REGION','ID','HASH','UNIT'], axis = 1, inplace = True)\n",
    "df.dropna(inplace = True)\n",
    "df.reset_index(inplace = True)\n",
    "df['POSTCODE'] = df['POSTCODE'].astype(int)\n",
    "df['POSTCODE'] = df['POSTCODE'].astype(str)\n"
   ]
  },
  {
   "cell_type": "code",
   "execution_count": 6,
   "metadata": {},
   "outputs": [],
   "source": [
    "df['POSTCODE'] = df['POSTCODE'].apply(lambda x: x.zfill(5))"
   ]
  },
  {
   "cell_type": "markdown",
   "metadata": {},
   "source": [
    "Instantiate the progress bar, this helps keep and eye on the for loops as they run.  You will likely have to rerun the bar function for whatever reason."
   ]
  },
  {
   "cell_type": "code",
   "execution_count": 7,
   "metadata": {},
   "outputs": [],
   "source": [
    "from progressbar import ProgressBar\n",
    "bar = ProgressBar(poll_interval=1)"
   ]
  },
  {
   "cell_type": "code",
   "execution_count": 8,
   "metadata": {},
   "outputs": [
    {
     "name": "stderr",
     "output_type": "stream",
     "text": [
      "100% (203620 of 203620) |################| Elapsed Time: 0:00:12 Time:  0:00:12\n"
     ]
    }
   ],
   "source": [
    "pointlist = []\n",
    "for i in bar(range(len(df))):\n",
    "    pointlist.append(Point(df['LON'].iloc[i],df['LAT'].iloc[i]))"
   ]
  },
  {
   "cell_type": "code",
   "execution_count": 9,
   "metadata": {},
   "outputs": [],
   "source": [
    "bar = ProgressBar(poll_interval=1)"
   ]
  },
  {
   "cell_type": "code",
   "execution_count": 10,
   "metadata": {},
   "outputs": [
    {
     "name": "stderr",
     "output_type": "stream",
     "text": [
      "100% (203620 of 203620) |################| Elapsed Time: 0:00:14 Time:  0:00:14\n"
     ]
    },
    {
     "name": "stdout",
     "output_type": "stream",
     "text": [
      "[index           6468\n",
      "LON         -74.4996\n",
      "LAT          40.6783\n",
      "NUMBER           383\n",
      "STREET       HIGH ST\n",
      "CITY        STIRLING\n",
      "POSTCODE       07980\n",
      "Name: 6439, dtype: object, index           8212\n",
      "LON         -74.4991\n",
      "LAT          40.6793\n",
      "NUMBER           362\n",
      "STREET       HIGH ST\n",
      "CITY        STIRLING\n",
      "POSTCODE       07980\n",
      "Name: 8176, dtype: object, index          18218\n",
      "LON         -74.5004\n",
      "LAT          40.6787\n",
      "NUMBER           396\n",
      "STREET       HIGH ST\n",
      "CITY        STIRLING\n",
      "POSTCODE       07980\n",
      "Name: 18135, dtype: object, index          24287\n",
      "LON         -74.4995\n",
      "LAT          40.6791\n",
      "NUMBER           368\n",
      "STREET       HIGH ST\n",
      "CITY        STIRLING\n",
      "POSTCODE       07980\n",
      "Name: 24165, dtype: object, index          91484\n",
      "LON         -74.5009\n",
      "LAT          40.6785\n",
      "NUMBER           404\n",
      "STREET       HIGH ST\n",
      "CITY        STIRLING\n",
      "POSTCODE       07980\n",
      "Name: 91016, dtype: object, index          95933\n",
      "LON            -74.5\n",
      "LAT          40.6789\n",
      "NUMBER           384\n",
      "STREET       HIGH ST\n",
      "CITY        STIRLING\n",
      "POSTCODE       07980\n",
      "Name: 95451, dtype: object, index         188638\n",
      "LON          -74.499\n",
      "LAT          40.6786\n",
      "NUMBER           367\n",
      "STREET       HIGH ST\n",
      "CITY        STIRLING\n",
      "POSTCODE       07980\n",
      "Name: 187698, dtype: object]\n"
     ]
    }
   ],
   "source": [
    "temp_list = []\n",
    "for i in bar(pointlist):\n",
    "        if poly.contains(i) == True:\n",
    "            temp_list.append(df.iloc[pointlist.index(i)])\n",
    "print(temp_list)"
   ]
  },
  {
   "cell_type": "code",
   "execution_count": 11,
   "metadata": {},
   "outputs": [],
   "source": [
    "from zillow import ValuationApi\n",
    "\n",
    "#insert your API key from zillow here\n",
    "zid = 'X1-ZWz18cqbc8wgsr_7j3qs'\n",
    "\n",
    "api = zillow.ValuationApi()"
   ]
  },
  {
   "cell_type": "code",
   "execution_count": 12,
   "metadata": {},
   "outputs": [],
   "source": [
    "zdf = pd.DataFrame(temp_list)\n",
    "zdf.reset_index(inplace = True)"
   ]
  },
  {
   "cell_type": "code",
   "execution_count": 15,
   "metadata": {},
   "outputs": [],
   "source": [
    "from progressbar import ProgressBar\n",
    "bar = ProgressBar(poll_interval=1)"
   ]
  },
  {
   "cell_type": "code",
   "execution_count": 13,
   "metadata": {},
   "outputs": [],
   "source": [
    "def Zestimate():\n",
    "    zestimate_list = []\n",
    "    #zipdf = df[df['POSTCODE'].isin(zipcode)]\n",
    "    zipdf = zdf\n",
    "\n",
    "    for i in bar(range(len(zipdf))):\n",
    "        try:\n",
    "            address = str(zipdf['NUMBER'][i].astype(str)+' '+zipdf['STREET'][i]+'.,'+zipdf['CITY'][i]+', NJ')\n",
    "            postal_code = zipdf['POSTCODE'][i]\n",
    "            data = api.GetSearchResults(zid,address,postal_code)\n",
    "            if data != None:\n",
    "                zestimate_list.append(data.zestiamte.amount)\n",
    "            else:\n",
    "                pass\n",
    "        except:\n",
    "            pass\n",
    "    #Worth noting that many of the addresses do no have corresponding values in the zillow database.\n",
    "    #The below print output shows how many the API missed.\n",
    "    print('Missing Values:',len(zipdf)-len(zestimate_list),'Gathered %:',(len(zestimate_list))/len(zipdf))\n",
    "    \n",
    "    # This is the print output, change the print out to your preference.\n",
    "    zestimate_list = [x for x in zestimate_list if x is not None]\n",
    "    zestimate_list = np.array(zestimate_list)\n",
    "    statistics = stats.describe(zestimate_list)\n",
    "    std = np.std(zestimate_list)\n",
    "    median = np.median(zestimate_list)\n",
    "    print('    ==========================================')\n",
    "    print('                 For Area', )\n",
    "    print('    ==========================================')\n",
    "    print()\n",
    "    print('     |  Values  |:',statistics[0])\n",
    "    print('     | Minimum  |:', statistics[1][0])\n",
    "    print('     | Maximum  |:', statistics[1][1])\n",
    "    print('     |  Median  |:', median)\n",
    "    print('     |   Mean   |:', float(\"{0:.2f}\".format(statistics[2])))\n",
    "    print('     |   Std    |:', float(\"{0:.2f}\".format(std)))\n",
    "    print('     | Skewness |:', float(\"{0:.2f}\".format(statistics[4])))\n",
    "    print('     | Kurtosis |:', float(\"{0:.2f}\".format(statistics[5])))\n",
    "    plt.hist(zestimate_list, edgecolor = 'black');\n",
    "    plt.xlabel('House Value')\n",
    "    plt.ylabel('Frequency')\n",
    "    return "
   ]
  },
  {
   "cell_type": "code",
   "execution_count": 16,
   "metadata": {},
   "outputs": [
    {
     "name": "stderr",
     "output_type": "stream",
     "text": [
      "100% (7 of 7) |##########################| Elapsed Time: 0:00:02 Time:  0:00:02\n"
     ]
    },
    {
     "name": "stdout",
     "output_type": "stream",
     "text": [
      "Missing Values: 0 Gathered %: 1.0\n",
      "    ==========================================\n",
      "                 For Area\n",
      "    ==========================================\n",
      "\n",
      "     |  Values  |: 7\n",
      "     | Minimum  |: 458294\n",
      "     | Maximum  |: 864980\n",
      "     |  Median  |: 773502.0\n",
      "     |   Mean   |: 710443.14\n",
      "     |   Std    |: 160772.1\n",
      "     | Skewness |: -0.75\n",
      "     | Kurtosis |: -1.16\n"
     ]
    },
    {
     "data": {
      "image/png": "[encoded data removed]",
      "text/plain": [
       "<Figure size 432x288 with 1 Axes>"
      ]
     },
     "metadata": {},
     "output_type": "display_data"
    }
   ],
   "source": [
    "Zestimate()"
   ]
  },
  {
   "cell_type": "code",
   "execution_count": null,
   "metadata": {},
   "outputs": [],
   "source": [
    "#Need to change the number values to dollar k"
   ]
  },
  {
   "cell_type": "code",
   "execution_count": null,
   "metadata": {},
   "outputs": [],
   "source": []
  }
 ],
 "metadata": {
  "kernelspec": {
   "display_name": "Python 3",
   "language": "python",
   "name": "python3"
  },
  "language_info": {
   "codemirror_mode": {
    "name": "ipython",
    "version": 3
   },
   "file_extension": ".py",
   "mimetype": "text/x-python",
   "name": "python",
   "nbconvert_exporter": "python",
   "pygments_lexer": "ipython3",
   "version": "3.6.5"
  }
 },
 "nbformat": 4,
 "nbformat_minor": 2
}
